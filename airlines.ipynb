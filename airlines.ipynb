{
  "nbformat": 4,
  "nbformat_minor": 0,
  "metadata": {
    "colab": {
      "provenance": [],
      "authorship_tag": "ABX9TyOOSO3m4hpARG6uHZY8Zlkm",
      "include_colab_link": true
    },
    "kernelspec": {
      "name": "python3",
      "display_name": "Python 3"
    },
    "language_info": {
      "name": "python"
    }
  },
  "cells": [
    {
      "cell_type": "markdown",
      "metadata": {
        "id": "view-in-github",
        "colab_type": "text"
      },
      "source": [
        "<a href=\"https://colab.research.google.com/github/sivanii23/Airline-directory/blob/main/airlines.ipynb\" target=\"_parent\"><img src=\"https://colab.research.google.com/assets/colab-badge.svg\" alt=\"Open In Colab\"/></a>"
      ]
    },
    {
      "cell_type": "code",
      "execution_count": null,
      "metadata": {
        "id": "YoAjhu4xVhaP"
      },
      "outputs": [],
      "source": [
        "import mysql.connector as con\n",
        "mydb=con.connect(host='localhost',user='root',passwd='bav',database='travel')\n",
        "if mydb.is_connected():\n",
        "    print('connection is set')\n",
        "else:\n",
        "    print('no')\n",
        "mycursor=mydb.cursor()\n",
        "while True:\n",
        "    print('MENU')\n",
        "    print('==========')\n",
        "    print('1.dislay all\\n2.display a record\\n3.add\\n4.remove\\n5.modify')\n",
        "    ch=int(input('enter your choice: '))\n",
        "    if ch==1:\n",
        "        print(\"choice 1\")\n",
        "        q='select * from airtable'\n",
        "        mycursor.execute(q)\n",
        "        myrec=mycursor.fetchall()\n",
        "        for i in myrec:\n",
        "                print(i)\n",
        "    elif ch==2:\n",
        "        place=input('enter the destination: ')\n",
        "        mycursor.execute(\"select * from airtable \")\n",
        "        rec=mycursor.fetchall()\n",
        "        for i in range(len(rec)):\n",
        "            if place.lower() in rec[i][2].lower():\n",
        "                print(rec[i])\n",
        "                break\n",
        "        else:\n",
        "            print('record not found')\n",
        "\n",
        "\n",
        "    elif ch==3:\n",
        "\n",
        "        tno=input('enter the terminal no.: ')\n",
        "        From=input('enter from place: ')\n",
        "        to=input('enter to place: ')\n",
        "        price=input('enter price: ')\n",
        "        duration=input('enter duration: ')\n",
        "        date=input('enter date: ')\n",
        "        start=input('enter take off time: ')\n",
        "        stop=input('enter landing time: ')\n",
        "        baggage=input('enter the baggage weight: ')\n",
        "        mycursor.execute(\"insert into airtable values('\"+tno+\"','\"+From+\"','\"+to+\"','\"+price+\"','\"+duration+\"','\"+date+\"','\"+start+\"','\"+stop+\"','\"+baggage+\"')\")\n",
        "        mydb.commit()\n",
        "        print('record added')\n",
        "\n",
        "    elif ch==4:\n",
        "        p=input('enter the destination: ')\n",
        "        mycursor.execute(\"delete from airtable where TO_DEST='\"+p+\"'\")\n",
        "\t    mydb.commit()\n",
        "    elif ch==5:\n",
        "        while True:\n",
        "            q='select * from airtable'\n",
        "            mycursor.execute(q)\n",
        "            myrec=mycursor.fetchall()\n",
        "            for i in myrec:\n",
        "                print(i)\n",
        "            place=input(\"select the record to be modified by entering the destination: \")\n",
        "            c=int(input(\"choice: \\n1.Price \\n2.schedule date\\n3.exit\\nwhat would u like to modify: \"))\n",
        "            if c==1:\n",
        "                m=input(\"Enter new price: \")\n",
        "                query=\"update airtable set price='\"+m+\"'where TO_DEST='\"+place+\"'\"\n",
        "                mycursor.execute(query)\n",
        "\t\t\t   mydb.commit()\n",
        "            elif c==2:\n",
        "                 m=input(\"Enter new date of flight YYYY-MM-DD: \")\n",
        "                 query=\"update airtable set DATE_OF_FLIGHT='\"+m+\"'where TO_DEST='\"+place+\"'\"\n",
        "                 mycursor.execute(query)\n",
        "\t\t\t    mydb.commit()\n",
        "            else:\n",
        "                if c>=3:\n",
        "                    break\n",
        "    else:\n",
        "        print('exit')\n",
        "    ch=input('do you wish to continue? Y/N: ')\n",
        "    if ch in 'Nn':\n",
        "        break\n",
        "mydb.commit()\n",
        "mydb.close()\n",
        "mycursor.close()\n"
      ]
    }
  ]
}